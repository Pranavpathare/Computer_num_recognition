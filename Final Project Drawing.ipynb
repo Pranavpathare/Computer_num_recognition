{
 "cells": [
  {
   "cell_type": "code",
   "execution_count": 1,
   "metadata": {},
   "outputs": [],
   "source": [
    "import numpy as np\n",
    "import cv2\n",
    "import math"
   ]
  },
  {
   "cell_type": "code",
   "execution_count": 2,
   "metadata": {},
   "outputs": [],
   "source": [
    "import matplotlib.pyplot as plt\n",
    "%matplotlib inline"
   ]
  },
  {
   "cell_type": "code",
   "execution_count": 3,
   "metadata": {},
   "outputs": [],
   "source": [
    "background = None\n",
    "accumulated_weight = 0.5\n",
    "\n",
    "roi_top = 20\n",
    "roi_bottom = 400\n",
    "roi_right = 300\n",
    "roi_left = 600"
   ]
  },
  {
   "cell_type": "code",
   "execution_count": 4,
   "metadata": {},
   "outputs": [],
   "source": [
    "def calc_accum_avg(frame,accumulated_weight):\n",
    "    \n",
    "    global background\n",
    "    \n",
    "    if background is None:\n",
    "        background = frame.copy().astype(\"float\")\n",
    "        return None\n",
    "    cv2.accumulateWeighted(frame,background,accumulated_weight)"
   ]
  },
  {
   "cell_type": "code",
   "execution_count": 5,
   "metadata": {},
   "outputs": [],
   "source": [
    "def segment(frame,threshold=25):\n",
    "    \n",
    "    global background\n",
    "    \n",
    "    diff = cv2.absdiff(background.astype(\"uint8\"),frame)\n",
    "    _,thresholded = cv2.threshold(diff,threshold,255,cv2.THRESH_BINARY)\n",
    "    contours,hierarchy =  cv2.findContours(thresholded.copy(),cv2.RETR_EXTERNAL,cv2.CHAIN_APPROX_SIMPLE)\n",
    "    \n",
    "    if len(contours) == 0:\n",
    "        return None\n",
    "    else:\n",
    "        hand_segment = max(contours,key = cv2.contourArea)\n",
    "        return (thresholded,hand_segment)"
   ]
  },
  {
   "cell_type": "code",
   "execution_count": 6,
   "metadata": {},
   "outputs": [],
   "source": [
    "def dist(a,b):\n",
    "    return math.sqrt((a[0] - b[0])**2 + (b[1] - a[1])**2)"
   ]
  },
  {
   "cell_type": "code",
   "execution_count": 7,
   "metadata": {},
   "outputs": [],
   "source": [
    "def filter_points(points,filterValue):\n",
    "    for i in range(len(points)):\n",
    "        for j in range(i+1,len(points)):\n",
    "            if points[i] and points[j] and dist(points[i] , points[j]) < filterValue:\n",
    "                points[j] = None\n",
    "    filtered = []\n",
    "    for point in points:\n",
    "        if point is not None:\n",
    "            filtered.append(point)\n",
    "    return filtered"
   ]
  },
  {
   "cell_type": "code",
   "execution_count": 8,
   "metadata": {},
   "outputs": [],
   "source": [
    "def plot(frame,points):\n",
    "    for point in points:\n",
    "        cv2.circle(frame,point,radius = 5,color = (0,0,255),thickness = -1)"
   ]
  },
  {
   "cell_type": "code",
   "execution_count": 12,
   "metadata": {},
   "outputs": [],
   "source": [
    "cam = cv2.VideoCapture(0)\n",
    "#cam.set(cv2.CAP_PROP_FPS,90)\n",
    "num_frames = 0\n",
    "screen = np.zeros((380,300))\n",
    "\n",
    "curr = None\n",
    "prev = None\n",
    "\n",
    "# keep looping, until interrupted\n",
    "while True:\n",
    "\n",
    "    ret, frame = cam.read()\n",
    "\n",
    "    frame = cv2.flip(frame, 1)\n",
    "\n",
    "    frame_copy = frame.copy()\n",
    "\n",
    "    roi = frame[roi_top:roi_bottom, roi_right:roi_left]\n",
    "    #print(roi.shape)\n",
    "    gray = cv2.cvtColor(roi, cv2.COLOR_BGR2GRAY)\n",
    "    gray = cv2.GaussianBlur(gray, (7, 7), 0)\n",
    "\n",
    "    if num_frames < 60:\n",
    "        calc_accum_avg(gray, accumulated_weight)\n",
    "        if num_frames <= 59:\n",
    "            cv2.putText(frame_copy, \"WAIT! GETTING BACKGROUND AVG.\", (20, 400), cv2.FONT_HERSHEY_SIMPLEX, 0.4, (0,255,0), 2)\n",
    "            cv2.imshow(\"Finger Count\",frame_copy)\n",
    "            \n",
    "    else:\n",
    "\n",
    "        hand = segment(gray)\n",
    "\n",
    "        if hand is not None:\n",
    "            thresholded, hand_segment = hand\n",
    "            masked = cv2.bitwise_and(roi,roi,mask = thresholded)\n",
    "            #cv2.imshow(\"Masked\",masked)\n",
    "            #cv2.imshow(\"Thesholded\", thresholded)\n",
    "            contours,hierarchy = cv2.findContours(thresholded,\n",
    "                                                  cv2.RETR_TREE,\n",
    "                                                  cv2.CHAIN_APPROX_SIMPLE)\n",
    "            palm_area = 0\n",
    "            flag = None\n",
    "            cnt = None\n",
    "            \n",
    "            for (i,c) in enumerate(contours):\n",
    "                area = cv2.contourArea(c)\n",
    "                if area>palm_area:\n",
    "                    palm_area = area\n",
    "                    flag = i\n",
    "            if flag is not None and palm_area > 10000:\n",
    "                cnt = contours[flag]\n",
    "                cv2.drawContours(masked,[cnt],0,(0,255,0),2)\n",
    "                cv2.imshow(\"roi_contours\",masked)\n",
    "                points = []\n",
    "                hull = cv2.convexHull(cnt,returnPoints = False)\n",
    "                defects = cv2.convexityDefects(cnt,hull)\n",
    "                \n",
    "                for i in range(defects.shape[0]):\n",
    "                    s,e,f,d, = defects[i,0]\n",
    "                    end = tuple(cnt[e][0])\n",
    "                    points.append(end)\n",
    "    \n",
    "                filtered = filter_points(points,50)#.sort(key = lambda x:x[1])\n",
    "                filtered.sort(key = lambda point : point[1])\n",
    "                fingers = [pt for (idx,pt) in zip(range(1),filtered)]\n",
    "                plot(masked,fingers)\n",
    "    \n",
    "                cv2.imshow(\"roi_contours\",masked)\n",
    "               \n",
    "                prev = curr\n",
    "                curr = fingers[0]\n",
    "                \n",
    "                if prev and curr:\n",
    "                    cv2.line(screen,prev,curr,(255,255,255),2)\n",
    "                cv2.imshow(\"Drawing\",screen)\n",
    "                \n",
    "                k = cv2.waitKey(10)\n",
    "                if k == ord('a'):\n",
    "                    screen = get_new_screen()\n",
    "                      \n",
    "    cv2.rectangle(frame_copy, (roi_left, roi_top), (roi_right, roi_bottom), (0,0,255), 5)\n",
    "\n",
    "    num_frames += 1\n",
    "    cv2.imshow(\"Finger Count\", frame_copy)\n",
    "\n",
    "    k = cv2.waitKey(1) & 0xFF\n",
    "    if k == 27:\n",
    "        break\n",
    "        \n",
    "cam.release()\n",
    "cv2.destroyAllWindows()\n",
    "\n",
    "#img = process_img(screen)"
   ]
  },
  {
   "cell_type": "code",
   "execution_count": null,
   "metadata": {},
   "outputs": [],
   "source": []
  },
  {
   "cell_type": "code",
   "execution_count": null,
   "metadata": {},
   "outputs": [],
   "source": []
  }
 ],
 "metadata": {
  "kernelspec": {
   "display_name": "Python 3",
   "language": "python",
   "name": "python3"
  },
  "language_info": {
   "codemirror_mode": {
    "name": "ipython",
    "version": 3
   },
   "file_extension": ".py",
   "mimetype": "text/x-python",
   "name": "python",
   "nbconvert_exporter": "python",
   "pygments_lexer": "ipython3",
   "version": "3.7.1"
  }
 },
 "nbformat": 4,
 "nbformat_minor": 2
}
