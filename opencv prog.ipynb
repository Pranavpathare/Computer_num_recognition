{
 "cells": [
  {
   "cell_type": "code",
   "execution_count": 1,
   "metadata": {},
   "outputs": [],
   "source": []
  },
  {
   "cell_type": "code",
   "execution_count": null,
   "metadata": {},
   "outputs": [],
   "source": []
  },
  {
   "cell_type": "code",
   "execution_count": 1,
   "metadata": {},
   "outputs": [
    {
     "ename": "NameError",
     "evalue": "name 'a' is not defined",
     "output_type": "error",
     "traceback": [
      "\u001b[1;31m---------------------------------------------------------------------------\u001b[0m",
      "\u001b[1;31mNameError\u001b[0m                                 Traceback (most recent call last)",
      "\u001b[1;32m<ipython-input-1-ee62731f2e6d>\u001b[0m in \u001b[0;36m<module>\u001b[1;34m()\u001b[0m\n\u001b[0;32m     85\u001b[0m         \u001b[0mcv2\u001b[0m\u001b[1;33m.\u001b[0m\u001b[0mrectangle\u001b[0m\u001b[1;33m(\u001b[0m\u001b[0mframe\u001b[0m\u001b[1;33m,\u001b[0m\u001b[1;33m(\u001b[0m\u001b[1;36m320\u001b[0m\u001b[1;33m,\u001b[0m\u001b[1;36m0\u001b[0m\u001b[1;33m)\u001b[0m\u001b[1;33m,\u001b[0m\u001b[1;33m(\u001b[0m\u001b[1;36m640\u001b[0m\u001b[1;33m,\u001b[0m\u001b[1;36m480\u001b[0m\u001b[1;33m)\u001b[0m\u001b[1;33m,\u001b[0m\u001b[0mcolor\u001b[0m\u001b[1;33m=\u001b[0m \u001b[1;33m(\u001b[0m\u001b[1;36m0\u001b[0m\u001b[1;33m,\u001b[0m\u001b[1;36m0\u001b[0m\u001b[1;33m,\u001b[0m\u001b[1;36m255\u001b[0m\u001b[1;33m)\u001b[0m\u001b[1;33m,\u001b[0m\u001b[0mthickness\u001b[0m \u001b[1;33m=\u001b[0m \u001b[1;33m-\u001b[0m\u001b[1;36m1\u001b[0m\u001b[1;33m)\u001b[0m\u001b[1;33m\u001b[0m\u001b[0m\n\u001b[0;32m     86\u001b[0m         \u001b[0mcv2\u001b[0m\u001b[1;33m.\u001b[0m\u001b[0mimshow\u001b[0m\u001b[1;33m(\u001b[0m\u001b[1;34m'f2'\u001b[0m\u001b[1;33m,\u001b[0m\u001b[0mframe\u001b[0m\u001b[1;33m)\u001b[0m\u001b[1;33m\u001b[0m\u001b[0m\n\u001b[1;32m---> 87\u001b[1;33m         \u001b[1;32mif\u001b[0m \u001b[1;33m(\u001b[0m\u001b[0mcv2\u001b[0m\u001b[1;33m.\u001b[0m\u001b[0mwaitKey\u001b[0m\u001b[1;33m(\u001b[0m\u001b[1;36m1\u001b[0m\u001b[1;33m)\u001b[0m \u001b[1;33m&\u001b[0m \u001b[1;36m0xFF\u001b[0m \u001b[1;33m==\u001b[0m \u001b[1;36m27\u001b[0m\u001b[1;33m)\u001b[0m \u001b[1;32mor\u001b[0m \u001b[1;33m(\u001b[0m\u001b[1;32mnot\u001b[0m \u001b[0ma\u001b[0m\u001b[1;33m)\u001b[0m\u001b[1;33m:\u001b[0m\u001b[1;33m\u001b[0m\u001b[0m\n\u001b[0m\u001b[0;32m     88\u001b[0m             \u001b[0ma\u001b[0m \u001b[1;33m=\u001b[0m \u001b[1;32mFalse\u001b[0m\u001b[1;33m\u001b[0m\u001b[0m\n\u001b[0;32m     89\u001b[0m             \u001b[1;32mbreak\u001b[0m\u001b[1;33m\u001b[0m\u001b[0m\n",
      "\u001b[1;31mNameError\u001b[0m: name 'a' is not defined"
     ]
    }
   ],
   "source": [
    "# All the required imports\n",
    "import numpy as np\n",
    "import cv2\n",
    "import time\n",
    "#----------------------------------------------------------------------------------------------------------------------\n",
    "# This is the function to which the mouse call back is connected to....\n",
    "# If the left button is clicked in the green region, the loop should continue\n",
    "# Else it should exit the main while loop\n",
    "\n",
    "def check_(event,x,y,flags,param):\n",
    "    if event == cv2.EVENT_LBUTTONDOWN:\n",
    "        ix,iy = x,y\n",
    "        if ix>0 and ix<320:\n",
    "            a = False\n",
    "    if event == cv2.EVENT_LBUTTONDOWN:\n",
    "        if ix>320 and ix<640: \n",
    "            a = True\n",
    "\n",
    "#----------------------------------------------------------------------------------------------------------------------\n",
    "\n",
    "# Setting up the video capture\n",
    "cap = cv2.VideoCapture(0)\n",
    "frameWidth  = int(cap.get(cv2.CAP_PROP_FRAME_WIDTH))\n",
    "frameHeight = int(cap.get(cv2.CAP_PROP_FRAME_HEIGHT))\n",
    "frameCount  = int(cap.get(cv2.CAP_PROP_FRAME_COUNT))\n",
    "\n",
    "#----------------------------------------------------------------------------------------------------------------------\n",
    "\n",
    "# A defined slide image for displaying 'processing' while the model predicts the result of the image'\n",
    "img = np.zeros((frameHeight,frameWidth,3),dtype = np.uint8)*255\n",
    "font = cv2.FONT_HERSHEY_COMPLEX\n",
    "x1 = 55\n",
    "y1 = 246\n",
    "\n",
    "img = cv2.putText(img,'Processing',org =(x1,y1),fontFace = font,fontScale = 3,color = (255,255,255),thickness = 8,lineType = cv2.LINE_AA )\n",
    "\n",
    "x2 = 150\n",
    "y2 = 246\n",
    "#----------------------------------------------------------------------------------------------------------------------\n",
    "\n",
    "# Defining an empty container which holds the last frame of the image on which we wish to predict\n",
    "buf = np.empty((1,frameHeight, frameWidth, 3), np.dtype('uint8'))\n",
    "\n",
    "#----------------------------------------------------------------------------------------------------------------------\n",
    "# The main loop\n",
    "\n",
    "while True:\n",
    "    cv2.namedWindow('f1')              # Window named f1 opened\n",
    "    t = time.clock()                   # time begins in seconds\n",
    "    while True:\n",
    "        \n",
    "        ret, frame = cap.read()        # Individually reading frames\n",
    "        buf[0] = frame                 # Appending frame to container while overwriting\n",
    "        #frame = cv2.resize(frame,(28,28))\n",
    "        frame = cv2.flip(frame,1)      # Flipping image so we have correct orientation\n",
    "        cv2.imshow('f1',frame)\n",
    "        if (cv2.waitKey(1) & 0xFF == ord('q')):\n",
    "            break\n",
    "        elif time.clock() >= t + 4.00: # Wait for 4 sec atleast \n",
    "            break\n",
    "    while True:                        # Second loop for 'processing image'\n",
    "        cv2.imshow('f1',img)\n",
    "        if (cv2.waitKey(1) & 0xFF == ord('q')):\n",
    "            break\n",
    "        elif time.clock() >= t + 8.00: # wait four seconds\n",
    "            break\n",
    "#--------------------------------------------------------------------\n",
    "    while True:                        # Third loop for prediction \n",
    "        ret,frame = cap.read()\n",
    "        frame = cv2.flip(frame,1)\n",
    "        frame = cv2.putText(frame,'YOUR PREDICTION IS 2',org =(x2,y2),fontFace = font,fontScale = 1,color = (0,255,0),thickness = 4,lineType = cv2.LINE_AA )\n",
    "        cv2.imshow('f1',frame)\n",
    "        if (cv2.waitKey(1) & 0xFF == ord('q')):\n",
    "            break\n",
    "        elif time.clock() >= t + 12.00:\n",
    "            break\n",
    "    cv2.destroyWindow('f1')    \n",
    "    cv2.namedWindow('f2')    \n",
    "    cv2.setMouseCallback('f2',check_)   # Callback to func check   \n",
    "    while True:\n",
    "        ret,frame = cap.read()\n",
    "        cv2.rectangle(frame,(0,0),(320,480),color= (0,255,0),thickness = -1)\n",
    "        cv2.rectangle(frame,(320,0),(640,480),color= (0,0,255),thickness = -1)\n",
    "        cv2.imshow('f2',frame)\n",
    "        if (cv2.waitKey(1) & 0xFF == 27) or (not a):\n",
    "            a = False\n",
    "            break\n",
    "       \n",
    "    if not a:\n",
    "        break\n",
    "    else:\n",
    "        continue\n",
    "    \n",
    "            \n",
    "#--------------------------------------------------------------------\n",
    "cap.release()\n",
    "cv2.destroyAllWindows()"
   ]
  },
  {
   "cell_type": "code",
   "execution_count": null,
   "metadata": {},
   "outputs": [],
   "source": []
  },
  {
   "cell_type": "code",
   "execution_count": null,
   "metadata": {},
   "outputs": [],
   "source": []
  },
  {
   "cell_type": "code",
   "execution_count": null,
   "metadata": {},
   "outputs": [],
   "source": []
  },
  {
   "cell_type": "code",
   "execution_count": null,
   "metadata": {},
   "outputs": [],
   "source": []
  },
  {
   "cell_type": "code",
   "execution_count": null,
   "metadata": {},
   "outputs": [],
   "source": []
  },
  {
   "cell_type": "code",
   "execution_count": null,
   "metadata": {},
   "outputs": [],
   "source": []
  },
  {
   "cell_type": "code",
   "execution_count": null,
   "metadata": {},
   "outputs": [],
   "source": []
  },
  {
   "cell_type": "code",
   "execution_count": null,
   "metadata": {},
   "outputs": [],
   "source": []
  },
  {
   "cell_type": "code",
   "execution_count": null,
   "metadata": {},
   "outputs": [],
   "source": []
  },
  {
   "cell_type": "code",
   "execution_count": null,
   "metadata": {},
   "outputs": [],
   "source": []
  },
  {
   "cell_type": "code",
   "execution_count": null,
   "metadata": {},
   "outputs": [],
   "source": []
  },
  {
   "cell_type": "code",
   "execution_count": null,
   "metadata": {},
   "outputs": [],
   "source": []
  },
  {
   "cell_type": "code",
   "execution_count": null,
   "metadata": {},
   "outputs": [],
   "source": []
  },
  {
   "cell_type": "code",
   "execution_count": null,
   "metadata": {},
   "outputs": [],
   "source": []
  },
  {
   "cell_type": "code",
   "execution_count": null,
   "metadata": {},
   "outputs": [],
   "source": []
  },
  {
   "cell_type": "code",
   "execution_count": null,
   "metadata": {},
   "outputs": [],
   "source": []
  },
  {
   "cell_type": "code",
   "execution_count": null,
   "metadata": {},
   "outputs": [],
   "source": []
  },
  {
   "cell_type": "code",
   "execution_count": null,
   "metadata": {},
   "outputs": [],
   "source": []
  },
  {
   "cell_type": "code",
   "execution_count": null,
   "metadata": {},
   "outputs": [],
   "source": []
  },
  {
   "cell_type": "code",
   "execution_count": null,
   "metadata": {},
   "outputs": [],
   "source": []
  },
  {
   "cell_type": "code",
   "execution_count": null,
   "metadata": {},
   "outputs": [],
   "source": []
  },
  {
   "cell_type": "code",
   "execution_count": null,
   "metadata": {},
   "outputs": [],
   "source": []
  },
  {
   "cell_type": "code",
   "execution_count": null,
   "metadata": {},
   "outputs": [],
   "source": []
  }
 ],
 "metadata": {
  "kernelspec": {
   "display_name": "Python 3",
   "language": "python",
   "name": "python3"
  },
  "language_info": {
   "codemirror_mode": {
    "name": "ipython",
    "version": 3
   },
   "file_extension": ".py",
   "mimetype": "text/x-python",
   "name": "python",
   "nbconvert_exporter": "python",
   "pygments_lexer": "ipython3",
   "version": "3.6.5"
  }
 },
 "nbformat": 4,
 "nbformat_minor": 2
}
