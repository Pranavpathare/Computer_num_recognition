{
 "cells": [
  {
   "cell_type": "code",
   "execution_count": 1,
   "metadata": {},
   "outputs": [],
   "source": []
  },
  {
   "cell_type": "code",
   "execution_count": null,
   "metadata": {},
   "outputs": [],
   "source": []
  },
  {
   "cell_type": "code",
   "execution_count": null,
   "metadata": {},
   "outputs": [],
   "source": [
    "import numpy as np\n",
    "import cv2\n",
    "import time\n",
    "def check(event,x,y,flags,param):\n",
    "    if event == cv2.EVENT_LBUTTONDOWN:\n",
    "        ix,iy = x,y\n",
    "        if x>0 and x<320:\n",
    "            a = False\n",
    "    if event == cv2.EVENT_LBUTTONDOWN:\n",
    "        if x>320 and x<640: \n",
    "            a = True\n",
    "\n",
    "#----------------------------------------------------------------------------------------------------------------------\n",
    "\n",
    "cap = cv2.VideoCapture(0)\n",
    "frameWidth  = int(cap.get(cv2.CAP_PROP_FRAME_WIDTH))\n",
    "frameHeight = int(cap.get(cv2.CAP_PROP_FRAME_HEIGHT))\n",
    "frameCount  = int(cap.get(cv2.CAP_PROP_FRAME_COUNT))\n",
    "\n",
    "#----------------------------------------------------------------------------------------------------------------------\n",
    "img = np.zeros((frameHeight,frameWidth,3),dtype = np.uint8)*255\n",
    "font = cv2.FONT_HERSHEY_COMPLEX\n",
    "x1 = 55\n",
    "y1 = 246\n",
    "\n",
    "img = cv2.putText(img,'Processing',org =(x1,y1),fontFace = font,fontScale = 3,color = (255,255,255),thickness = 8,lineType = cv2.LINE_AA )\n",
    "\n",
    "x2 = 150\n",
    "y2 = 246\n",
    "#----------------------------------------------------------------------------------------------------------------------\n",
    "\n",
    "buf = np.empty((1,frameHeight, frameWidth, 3), np.dtype('uint8'))\n",
    "\n",
    "#----------------------------------------------------------------------------------------------------------------------\n",
    "\n",
    "while True:\n",
    "    cv2.namedWindow('f1')\n",
    "    cv2.setMouseCallback('f1',check)\n",
    "    t = time.clock()\n",
    "    while True:\n",
    "        \n",
    "        ret, frame = cap.read()\n",
    "        buf[0] = frame\n",
    "        #frame = cv2.resize(frame,(28,28))\n",
    "        frame = cv2.flip(frame,1)\n",
    "        cv2.imshow('f1',frame)\n",
    "        if (cv2.waitKey(1) & 0xFF == ord('q')):\n",
    "            break\n",
    "        elif time.clock() >= t + 4.00:\n",
    "            break\n",
    "    while True: \n",
    "        cv2.imshow('f1',img)\n",
    "        if (cv2.waitKey(1) & 0xFF == ord('q')):\n",
    "            break\n",
    "        elif time.clock() >= t + 8.00:\n",
    "            break\n",
    "#--------------------------------------------------------------------\n",
    "    while True:\n",
    "        ret,frame = cap.read()\n",
    "        frame = cv2.flip(frame,1)\n",
    "        frame = cv2.putText(frame,'YOUR PREDICTION IS 2',org =(x2,y2),fontFace = font,fontScale = 1,color = (0,255,0),thickness = 4,lineType = cv2.LINE_AA )\n",
    "        cv2.imshow('f1',frame)\n",
    "        if (cv2.waitKey(1) & 0xFF == ord('q')):\n",
    "            break\n",
    "        elif time.clock() >= t + 12.00:\n",
    "            break\n",
    "        \n",
    "        \n",
    "        \n",
    "    while True:\n",
    "        ret,frame = cap.read()\n",
    "        cv2.rectangle(frame,(0,0),(320,480),color= (0,255,0),thickness = -1)\n",
    "        cv2.rectangle(frame,(320,0),(640,480),color= (0,0,255),thickness = -1)\n",
    "        cv2.imshow('f1',frame)\n",
    "        if (cv2.waitKey(1) & 0xFF == 27):\n",
    "            a = False\n",
    "            break\n",
    "       \n",
    "    if not a:\n",
    "        break\n",
    "    else:\n",
    "        continue\n",
    "    \n",
    "            \n",
    "#--------------------------------------------------------------------\n",
    "cap.release()\n",
    "cv2.destroyAllWindows()"
   ]
  },
  {
   "cell_type": "code",
   "execution_count": null,
   "metadata": {},
   "outputs": [],
   "source": []
  },
  {
   "cell_type": "code",
   "execution_count": null,
   "metadata": {},
   "outputs": [],
   "source": []
  },
  {
   "cell_type": "code",
   "execution_count": null,
   "metadata": {},
   "outputs": [],
   "source": []
  },
  {
   "cell_type": "code",
   "execution_count": null,
   "metadata": {},
   "outputs": [],
   "source": []
  },
  {
   "cell_type": "code",
   "execution_count": null,
   "metadata": {},
   "outputs": [],
   "source": []
  },
  {
   "cell_type": "code",
   "execution_count": null,
   "metadata": {},
   "outputs": [],
   "source": []
  },
  {
   "cell_type": "code",
   "execution_count": null,
   "metadata": {},
   "outputs": [],
   "source": []
  },
  {
   "cell_type": "code",
   "execution_count": null,
   "metadata": {},
   "outputs": [],
   "source": []
  },
  {
   "cell_type": "code",
   "execution_count": null,
   "metadata": {},
   "outputs": [],
   "source": []
  },
  {
   "cell_type": "code",
   "execution_count": null,
   "metadata": {},
   "outputs": [],
   "source": []
  },
  {
   "cell_type": "code",
   "execution_count": null,
   "metadata": {},
   "outputs": [],
   "source": []
  },
  {
   "cell_type": "code",
   "execution_count": null,
   "metadata": {},
   "outputs": [],
   "source": []
  },
  {
   "cell_type": "code",
   "execution_count": null,
   "metadata": {},
   "outputs": [],
   "source": []
  },
  {
   "cell_type": "code",
   "execution_count": null,
   "metadata": {},
   "outputs": [],
   "source": []
  },
  {
   "cell_type": "code",
   "execution_count": null,
   "metadata": {},
   "outputs": [],
   "source": []
  },
  {
   "cell_type": "code",
   "execution_count": null,
   "metadata": {},
   "outputs": [],
   "source": []
  },
  {
   "cell_type": "code",
   "execution_count": null,
   "metadata": {},
   "outputs": [],
   "source": []
  },
  {
   "cell_type": "code",
   "execution_count": null,
   "metadata": {},
   "outputs": [],
   "source": []
  },
  {
   "cell_type": "code",
   "execution_count": null,
   "metadata": {},
   "outputs": [],
   "source": []
  },
  {
   "cell_type": "code",
   "execution_count": null,
   "metadata": {},
   "outputs": [],
   "source": []
  },
  {
   "cell_type": "code",
   "execution_count": null,
   "metadata": {},
   "outputs": [],
   "source": []
  },
  {
   "cell_type": "code",
   "execution_count": null,
   "metadata": {},
   "outputs": [],
   "source": []
  },
  {
   "cell_type": "code",
   "execution_count": null,
   "metadata": {},
   "outputs": [],
   "source": []
  }
 ],
 "metadata": {
  "kernelspec": {
   "display_name": "Python 3",
   "language": "python",
   "name": "python3"
  },
  "language_info": {
   "codemirror_mode": {
    "name": "ipython",
    "version": 3
   },
   "file_extension": ".py",
   "mimetype": "text/x-python",
   "name": "python",
   "nbconvert_exporter": "python",
   "pygments_lexer": "ipython3",
   "version": "3.6.5"
  }
 },
 "nbformat": 4,
 "nbformat_minor": 2
}
