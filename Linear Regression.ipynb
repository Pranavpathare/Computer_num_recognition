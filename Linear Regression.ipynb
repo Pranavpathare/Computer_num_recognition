{
 "cells": [
  {
   "cell_type": "markdown",
   "metadata": {},
   "source": [
    "# Linear Regression"
   ]
  },
  {
   "cell_type": "markdown",
   "metadata": {},
   "source": [
    "In statistics, linear regression is a linear approach to modelling the relationship between a scalar response (or dependent variable) and one or more explanatory variables (or independent variables).\n",
    "\n",
    "Linear regression is perhaps one of the most well known and well understood algorithms in statistics and machine learning.\n",
    "\n",
    "There are two types of linear regression- Simple and Multiple."
   ]
  },
  {
   "cell_type": "markdown",
   "metadata": {},
   "source": [
    "## Plotting and R2 function"
   ]
  },
  {
   "cell_type": "code",
   "execution_count": null,
   "metadata": {},
   "outputs": [],
   "source": [
    "def plot(X,y):\n",
    "    if Dim == 2:\n",
    "        fig = plt.figure()\n",
    "        ax = fig.add_subplot(111,projection = '3d')\n",
    "        ax.scatter(X[:,0],X[:,1],y)\n",
    "        plt.show()\n",
    "    elif Dim == 1:\n",
    "        plt.scatter(X,y)\n",
    "        plt.xlabel('Input data points')\n",
    "        plt.ylabel('Output data points')\n",
    "        plt.title('Data points in space')\n",
    "        plt.show()\n",
    "    else:\n",
    "        print(\"The visualization is beyond human perception\")"
   ]
  },
  {
   "cell_type": "code",
   "execution_count": null,
   "metadata": {},
   "outputs": [],
   "source": [
    "def R2adj(X,y,yhat):\n",
    "    d1 = y - yhat\n",
    "    d2 = y - y.mean()\n",
    "    R2 = 1 - (d1.dot(d1)/d2.dot(d2))\n",
    "\n",
    "    print('The value of R2 or the PCC squared for your data is {}'.format(R2))\n",
    "    print()\n",
    "    print(\"Note that R2 is not always a good measure of your models performance.\")\n",
    "    print(\"R-squared cannot determine whether the coefficient estimates and\\\n",
    "    predictions are biased, which is why you must assess the residual plots.\")\n",
    "    print()\n",
    "    print()\n",
    "    if R2 == 1:\n",
    "        print('You have a perfect model :) ...Ensure that it is not overfitting though.')\n",
    "    elif R2 > 0.70:\n",
    "        print(\"That is a very good fit \")\n",
    "    elif R2 > 0.40 and R2<.70:\n",
    "        print(\"Your model is decent.\" )\n",
    "    elif R2>0 and R2<0.4:\n",
    "        print(\"Your model has poor performance\" )\n",
    "    elif R2<0:\n",
    "        print(\"Your model is very poor.\")\n",
    "        print(\"Even the wildest of guesses are statistically would be more significant.\\\n",
    "    Here is what you could do:\\n \\\n",
    "    1.Try a different model altogether. \\n \\\n",
    "    2.Try using better features. \\n  \\\n",
    "    3.Try using polynomial Linear Regression \")\n",
    "\n",
    "    SS_Residual = sum((y-yhat)**2)\n",
    "    SS_Total = sum((y-np.mean(y))**2)\n",
    "    r_squared = 1 - (float(SS_Residual))/SS_Total\n",
    "    adjusted_r_squared = 1 - (1-r_squared)*(len(y)-1)/(len(y)-X.shape[1]-1)\n",
    "\n",
    "    print()\n",
    "    print(\"The adjusted R-squared is a modified version of R-squared that has been adjusted for \\\n",
    "    the number of predictors in the model. The adjusted R-squared increases only if \\\n",
    "    the new term improves the model more than would be expected by chance.\\\n",
    "    It decreases when a predictor improves the model by less than expected by chance.\")\n",
    "    print()\n",
    "    print(\"The value of adjusted R2 is : {}\".format(adjusted_r_squared))"
   ]
  },
  {
   "cell_type": "markdown",
   "metadata": {},
   "source": [
    "## Simple Linear Regression"
   ]
  },
  {
   "cell_type": "markdown",
   "metadata": {},
   "source": [
    "\n",
    "Simple linear regression is useful for finding relationship between two continuous variables. One is predictor or independent variable and other is response or dependent variable. It looks for statistical relationship but not deterministic relationship. Relationship between two variables is said to be deterministic if one variable can be accurately expressed by the other."
   ]
  },
  {
   "cell_type": "code",
   "execution_count": 3,
   "metadata": {},
   "outputs": [],
   "source": [
    "import numpy as np\n",
    "import matplotlib.pyplot as plt\n",
    "%matplotlib inline\n",
    "from mpl_toolkits.mplot3d import Axes3D"
   ]
  },
  {
   "cell_type": "code",
   "execution_count": 4,
   "metadata": {},
   "outputs": [
    {
     "name": "stdout",
     "output_type": "stream",
     "text": [
      "How many samples do you have ? 2\n",
      "Enter the input value of sample 1 : 1\n",
      "Enter the expected output value of sample 1 : 1\n",
      "Enter the input value of sample 2 : 2\n",
      "Enter the expected output value of sample 2 : 2\n"
     ]
    },
    {
     "data": {
      "image/png": "[encoded data removed]",
      "text/plain": [
       "<Figure size 432x288 with 1 Axes>"
      ]
     },
     "metadata": {},
     "output_type": "display_data"
    },
    {
     "data": {
      "image/png": "[encoded data removed]",
      "text/plain": [
       "<Figure size 432x288 with 1 Axes>"
      ]
     },
     "metadata": {},
     "output_type": "display_data"
    },
    {
     "name": "stdout",
     "output_type": "stream",
     "text": [
      "Your line has a slope of : 1.0\n",
      "Your line has an intercept of : 0.0\n",
      "The equation of your line is : y = 1.0x + 0.0\n",
      "\n",
      "The value of R2 or the PCC squared for your data is 1.0\n",
      "\n",
      "Note that R2 is not always a good measure of your models performance.\n",
      "R-squared cannot determine whether the coefficient estimates and                predictions are biased, which is why you must assess the residual plots.\n",
      "You have a perfect model :) ...Ensure that it is not overfitting though.\n",
      "\n",
      "The adjusted R-squared is a modified version of R-squared that has been adjusted for       the number of predictors in the model. The adjusted R-squared increases only if       the new term improves the model more than would be expected by chance.      It decreases when a predictor improves the model by less than expected by chance.\n",
      "The value of adjusted R2 is : nan\n"
     ]
    },
    {
     "name": "stderr",
     "output_type": "stream",
     "text": [
      "C:\\Users\\PERSONAL\\Anaconda3\\lib\\site-packages\\ipykernel_launcher.py:53: RuntimeWarning: invalid value encountered in double_scalars\n"
     ]
    }
   ],
   "source": [
    "num_samples = int(input(\"How many samples do you have ? \"))\n",
    "X = np.empty((num_samples,))\n",
    "y = np.empty((num_samples,))\n",
    "\n",
    "for i in range(num_samples):\n",
    "    X[i] = int(input('Enter the input value of sample {} : '.format(i+1)))\n",
    "    y[i] = int(input('Enter the expected output value of sample {} : '.format(i+1)))\n",
    "    \n",
    "plt.scatter(X,y)\n",
    "plt.xlabel('Input data points')\n",
    "plt.ylabel('Output data points')\n",
    "plt.title('Data points in space')\n",
    "plt.show()\n",
    "\n",
    "denominator = X.dot(X) - X.mean()*X.sum()\n",
    "m = (X.dot(y) - y.mean()*(X.sum()))/denominator\n",
    "c = (y.mean()*X.dot(X) - X.mean()*X.dot(y))/denominator\n",
    "     \n",
    "yhat = m*X + c\n",
    "plt.scatter(X,y)\n",
    "plt.plot(X,yhat)\n",
    "plt.show()\n",
    "\n",
    "print(\"Your line has a slope of : {}\".format(m))\n",
    "print(\"Your line has an intercept of : {}\".format(c))\n",
    "print('The equation of your line is : y = {}x + {}'.format(m,c))\n",
    "print()\n",
    "\n",
    "d1 = y - yhat\n",
    "d2 = y - y.mean()\n",
    "R2 = 1 - (d1.dot(d1)/d2.dot(d2))\n",
    "\n",
    "print('The value of R2 or the PCC squared for your data is {}'.format(R2))\n",
    "print()\n",
    "print(\"Note that R2 is not always a good measure of your models performance.\")\n",
    "print(\"R-squared cannot determine whether the coefficient estimates and          \\\n",
    "      predictions are biased, which is why you must assess the residual plots.\")\n",
    "if R2 == 1:\n",
    "    print('You have a perfect model :) ...Ensure that it is not overfitting though.')\n",
    "elif R2 > 0.70:\n",
    "    print(\"That is a very good fit \")\n",
    "elif R2 > 0.40 and R2<.70:\n",
    "    print(\"Your model is decent.\" )\n",
    "elif R2>0 and R2<0.4:\n",
    "    print(\"Your model has poor performance\" )\n",
    "elif R2<0:\n",
    "    print(\"Your model is very poor.\")\n",
    "\n",
    "    print(\"Even the wildest of guesses are statistically would be more significant.\\\n",
    "          Here is what you could do:\\n \\\n",
    "      1.Try a different model altogether. \\n \\\n",
    "      2.Try using better features. \\n  \\\n",
    "      3.Try using polynomial Linear Regression \")\n",
    "\n",
    "SS_Residual = sum((y-yhat)**2)\n",
    "SS_Total = sum((y-np.mean(y))**2)\n",
    "r_squared = 1 - (float(SS_Residual))/SS_Total\n",
    "adjusted_r_squared = 1 - (1-r_squared)*(len(y)-1)/(len(y)-1-1)\n",
    "\n",
    "print()\n",
    "print(\"The adjusted R-squared is a modified version of R-squared that has been adjusted for \\\n",
    "      the number of predictors in the model. The adjusted R-squared increases only if \\\n",
    "      the new term improves the model more than would be expected by chance.\\\n",
    "      It decreases when a predictor improves the model by less than expected by chance.\")\n",
    "print(\"The value of adjusted R2 is : {}\".format(adjusted_r_squared))"
   ]
  },
  {
   "cell_type": "raw",
   "metadata": {},
   "source": []
  },
  {
   "cell_type": "markdown",
   "metadata": {},
   "source": [
    "# Multiple Linear Regression"
   ]
  },
  {
   "cell_type": "markdown",
   "metadata": {},
   "source": [
    "Multiple linear regression (MLR) is used to determine a mathematical relationship among a number of random variables. In other terms, MLR examines how multiple independent variables are related to one dependent variable."
   ]
  },
  {
   "cell_type": "markdown",
   "metadata": {},
   "source": [
    "## Closed Form Solution"
   ]
  },
  {
   "cell_type": "markdown",
   "metadata": {},
   "source": [
    "This approach uses a non gradient descent approach and is acheved by simply differentiating the error function w.r.t the weight matrix W."
   ]
  },
  {
   "cell_type": "code",
   "execution_count": 5,
   "metadata": {},
   "outputs": [],
   "source": [
    "import numpy as np\n",
    "import matplotlib.pyplot as plt\n",
    "%matplotlib inline\n",
    "from mpl_toolkits.mplot3d import Axes3D"
   ]
  },
  {
   "cell_type": "code",
   "execution_count": 8,
   "metadata": {},
   "outputs": [
    {
     "name": "stdout",
     "output_type": "stream",
     "text": [
      "How many samples do you have ? 2\n",
      "How many features do you wish to consider ? :2\n",
      "Enter the input values and expected output values in space seperated tuples.(1,3,6) (5,6,3)\n"
     ]
    },
    {
     "data": {
      "image/png": "[encoded data removed]",
      "text/plain": [
       "<Figure size 432x288 with 1 Axes>"
      ]
     },
     "metadata": {},
     "output_type": "display_data"
    },
    {
     "name": "stdout",
     "output_type": "stream",
     "text": [
      "The value of R2 or the PCC squared for your data is 1.0\n",
      "\n",
      "Note that R2 is not always a good measure of your models performance.\n",
      "R-squared cannot determine whether the coefficient estimates and    predictions are biased, which is why you must assess the residual plots.\n",
      "\n",
      "\n",
      "You have a perfect model :) ...Ensure that it is not overfitting though.\n",
      "\n",
      "The adjusted R-squared is a modified version of R-squared that has been adjusted for     the number of predictors in the model. The adjusted R-squared increases only if     the new term improves the model more than would be expected by chance.    It decreases when a predictor improves the model by less than expected by chance.\n",
      "\n",
      "The value of adjusted R2 is : 1.0\n"
     ]
    }
   ],
   "source": [
    "global var\n",
    "var = False\n",
    "\n",
    "num_samples = int(input(\"How many samples do you have ? \"))\n",
    "Dim = int(input(\"How many features do you wish to consider ? :\"))\n",
    "\n",
    "Data = input(\"Enter the input values and expected output values in space seperated tuples.\")\n",
    "Data = [eval(i) for i in Data.split(' ')]\n",
    "\n",
    "if len(Data) != num_samples:\n",
    "    print(\"You have provided incorrect number of samples\")\n",
    "X = np.array([list(i[0:Dim]) for i in Data])\n",
    "y = np.array([i[-1] for i in Data])\n",
    "\n",
    "if Dim == 2:\n",
    "    fig = plt.figure()\n",
    "    ax = fig.add_subplot(111,projection = '3d')\n",
    "    ax.scatter(X[:,0],X[:,1],y)\n",
    "    plt.show()\n",
    "elif Dim == 1:\n",
    "    plt.scatter(X,y)\n",
    "    plt.xlabel('Input data points')\n",
    "    plt.ylabel('Output data points')\n",
    "    plt.title('Data points in space')\n",
    "    plt.show()\n",
    "else:\n",
    "    print(\"The visualization is beyond human perception\")\n",
    "try:\n",
    "    W = np.linalg.solve(np.dot(X.T,X),np.dot(X.T,y))\n",
    "    yhat = X.dot(W)\n",
    "except np.linalg.LinAlgError:\n",
    "    var = True\n",
    "    print(\"The matrix in singular, You were caught by the dummy\\\n",
    "variable trap, use gradient descent instead\")\n",
    "    \n",
    "if not var:\n",
    "    W = np.linalg.solve(np.dot(X.T,X),np.dot(X.T,y))\n",
    "    yhat = X.dot(W)\n",
    "    R2adj(X,y,yhat)"
   ]
  },
  {
   "cell_type": "raw",
   "metadata": {},
   "source": []
  },
  {
   "cell_type": "markdown",
   "metadata": {},
   "source": [
    "## L2 / Ridge Regression "
   ]
  },
  {
   "cell_type": "markdown",
   "metadata": {},
   "source": [
    "This model solves a regression model where the loss function is the linear least squares function and regularization is given by the l2-norm. Also known as Ridge Regression or Tikhonov regularization."
   ]
  },
  {
   "cell_type": "code",
   "execution_count": null,
   "metadata": {},
   "outputs": [],
   "source": [
    "global var\n",
    "var = False\n",
    "\n",
    "num_samples = int(input(\"How many samples do you have ? \"))\n",
    "Dim = int(input(\"How many features do you wish to consider ? :\"))\n",
    "\n",
    "Data = input(\"Enter the input values and expected output values in space seperated tuples.\")\n",
    "Data = [eval(i) for i in Data.split(' ')]\n",
    "\n",
    "lamda = int(input(\"Enter a value for the L2 regularization parameter Lambda\"))\n",
    "\n",
    "if len(Data) != num_samples:\n",
    "    print(\"You have provided incorrect number of samples\")\n",
    "X = np.array([list(i[0:Dim]) for i in Data])\n",
    "y = np.array([i[-1] for i in Data])\n",
    "\n",
    "if Dim == 2:\n",
    "    fig = plt.figure()\n",
    "    ax = fig.add_subplot(111,projection = '3d')\n",
    "    ax.scatter(X[:,0],X[:,1],y)\n",
    "    plt.show()\n",
    "elif Dim == 1:\n",
    "    plt.scatter(X,y)\n",
    "    plt.xlabel('Input data points')\n",
    "    plt.ylabel('Output data points')\n",
    "    plt.title('Data points in space')\n",
    "    plt.show()\n",
    "else:\n",
    "    print(\"The visualization is beyond human perception\")\n",
    "try:\n",
    "    W = np.linalg.solve(np.dot(X.T,X),np.dot(X.T,y))\n",
    "    yhat = X.dot(W)\n",
    "except np.linalg.LinAlgError:\n",
    "    var = True\n",
    "    print(\"The matrix in singular, You were caught by the dummy\\\n",
    "variable trap, use gradient descent instead\")\n",
    "    \n",
    "if not var:\n",
    "    W = np.linalg.solve(lamda*np.eye(Dim) + np.dot(X.T,X),np.dot(X.T,y))\n",
    "    yhat = X.dot(W)\n",
    "    d1 = y - yhat\n",
    "    d2 = y - y.mean()\n",
    "    R2 = 1 - (d1.dot(d1)/d2.dot(d2))\n",
    "\n",
    "    print('The value of R2 or the PCC squared for your data is {}'.format(R2))\n",
    "    print()\n",
    "    print(\"Note that R2 is not always a good measure of your models performance.\")\n",
    "    print(\"R-squared cannot determine whether the coefficient estimates and\\\n",
    "predictions are biased, which is why you must assess the residual plots.\")\n",
    "    print()\n",
    "    print()\n",
    "    if R2 == 1:\n",
    "        print('You have a perfect model :) ...Ensure that it is not overfitting though.')\n",
    "    elif R2 > 0.70:\n",
    "        print(\"That is a very good fit \")\n",
    "    elif R2 > 0.40 and R2<.70:\n",
    "        print(\"Your model is decent.\" )\n",
    "    elif R2>0 and R2<0.4:\n",
    "        print(\"Your model has poor performance\" )\n",
    "    elif R2<0:\n",
    "        print(\"Your model is very poor.\")\n",
    "        print(\"Even the wildest of guesses are statistically would be more significant.\\\n",
    "Here is what you could do:\\n \\\n",
    "1.Try a different model altogether. \\n \\\n",
    "2.Try using better features. \\n  \\\n",
    "3.Try using polynomial Linear Regression \")\n",
    "\n",
    "    SS_Residual = sum((y-yhat)**2)\n",
    "    SS_Total = sum((y-np.mean(y))**2)\n",
    "    r_squared = 1 - (float(SS_Residual))/SS_Total\n",
    "    adjusted_r_squared = 1 - (1-r_squared)*(len(y)-1)/(len(y)-X.shape[1]-1)\n",
    "\n",
    "    print()\n",
    "    print(\"The adjusted R-squared is a modified version of R-squared that has been adjusted for \\\n",
    "the number of predictors in the model. The adjusted R-squared increases only if \\\n",
    "the new term improves the model more than would be expected by chance.\\\n",
    "It decreases when a predictor improves the model by less than expected by chance.\")\n",
    "    print()\n",
    "    print(\"The value of adjusted R2 is : {}\".format(adjusted_r_squared))"
   ]
  },
  {
   "cell_type": "raw",
   "metadata": {},
   "source": []
  },
  {
   "cell_type": "markdown",
   "metadata": {},
   "source": [
    "## Using Gradient Descent"
   ]
  },
  {
   "cell_type": "code",
   "execution_count": 32,
   "metadata": {},
   "outputs": [
    {
     "name": "stdout",
     "output_type": "stream",
     "text": [
      "how many loops do you require ?: 9\n",
      "What would you like the learning rate to be: 0.003\n",
      "\n",
      "\n",
      "[1. 1.]\n"
     ]
    }
   ],
   "source": [
    "X = np.array([[1,2],[3,4],[5,6]])\n",
    "y = np.array([3,7,11])\n",
    "\n",
    "Loop = int(input('how many loops do you require ?: '))\n",
    "lr = float(input(\"What would you like the learning rate to be: \"))\n",
    "\n",
    "#plot(X,y)\n",
    "    \n",
    "W = np.array([3,2])\n",
    "cost = []\n",
    "for i in range(100000):\n",
    "    yhat = X.dot(W)\n",
    "    delta = yhat - y\n",
    "    W = W - lr*X.T.dot(delta)\n",
    "    #mse = delta.dot(delta)\n",
    "    #cost.append(mse)\n",
    "    \n",
    "#plt.plot(cost)\n",
    "#plt.show()\n",
    "\n",
    "print()\n",
    "print()\n",
    "print(W)\n"
   ]
  },
  {
   "cell_type": "code",
   "execution_count": 28,
   "metadata": {},
   "outputs": [
    {
     "data": {
      "text/plain": [
       "array([114, 144])"
      ]
     },
     "execution_count": 28,
     "metadata": {},
     "output_type": "execute_result"
    }
   ],
   "source": [
    "X.T.dot(delta)"
   ]
  },
  {
   "cell_type": "code",
   "execution_count": 30,
   "metadata": {},
   "outputs": [
    {
     "data": {
      "text/plain": [
       "array([2.658, 1.568])"
      ]
     },
     "execution_count": 30,
     "metadata": {},
     "output_type": "execute_result"
    }
   ],
   "source": [
    "W"
   ]
  },
  {
   "cell_type": "code",
   "execution_count": null,
   "metadata": {},
   "outputs": [],
   "source": []
  }
 ],
 "metadata": {
  "kernelspec": {
   "display_name": "Python 3",
   "language": "python",
   "name": "python3"
  },
  "language_info": {
   "codemirror_mode": {
    "name": "ipython",
    "version": 3
   },
   "file_extension": ".py",
   "mimetype": "text/x-python",
   "name": "python",
   "nbconvert_exporter": "python",
   "pygments_lexer": "ipython3",
   "version": "3.6.8"
  }
 },
 "nbformat": 4,
 "nbformat_minor": 2
}
